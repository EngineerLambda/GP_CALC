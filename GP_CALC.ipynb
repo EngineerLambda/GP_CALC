{
 "cells": [
  {
   "cell_type": "code",
   "execution_count": null,
   "metadata": {
    "id": "Px6qTju5eAtG"
   },
   "outputs": [
    {
     "name": "stdout",
     "output_type": "stream",
     "text": [
      "No of course(s)? 3\n"
     ]
    }
   ],
   "source": [
    "import pandas as pd\n",
    "course_code,course_unit,course_grade,course_score,course_weight= [],[],[],[],[]\n",
    "wd={\"A\":5,\"B\":4,\"C\":3,\"D\":2,\"E\":1,\"F\":0}\n",
    "grades=[]\n",
    "grades_wd=[]\n",
    "num_course=eval(input(\"No of course(s)? \"))\n",
    "for i in range(num_course):\n",
    "    name=input(\"\\nEnter course code: \")\n",
    "    course_code.append(name)\n",
    "    unit= eval(input(\"Enter the unit of \"+name+\": \"))\n",
    "    course_unit.append(unit)\n",
    "    score=eval(input(\"Enter your score in \"+name+\": \"))\n",
    "    course_score.append(score)\n",
    "    if score>=70:\n",
    "        grade=\"A\"\n",
    "    elif score>=60:\n",
    "        grade=\"B\"\n",
    "    elif score>=50:\n",
    "        grade=\"C\"\n",
    "    elif score>=45:\n",
    "        grade=\"D\"\n",
    "    elif score>=40:\n",
    "        grade=\"E\"\n",
    "    elif score<40:\n",
    "        grade=\"F\"\n",
    "    grades.append(grade)\n",
    "    weight= unit*wd[grade]\n",
    "    course_weight.append(weight)\n",
    "    grades_wd.append(wd[grade])\n",
    "#CGPA Calculation\n",
    "total_weight= sum(course_weight)\n",
    "total_unit= sum(course_unit)\n",
    "c_gpa=total_weight/total_unit\n",
    "c_gpa=round(c_gpa,2)\n",
    "print(\"\\n\\nYour C/GPA= \",c_gpa)\n",
    "#Table Output\n",
    "data_table={\"Courses\": course_code,\"Unit\":course_unit,\"Score\":course_score,\"Your grade\":grades,\"Grade Equivalent\":grades_wd,\"Your total score weight\": course_weight}\n",
    "table= pd.DataFrame(data_table,index=[j for j in range(1,num_course+1)])\n",
    "\n",
    "table"
   ]
  }
 ],
 "metadata": {
  "colab": {
   "authorship_tag": "ABX9TyOrM/kcPJjB/r/Y/gRuwJxj",
   "provenance": []
  },
  "kernelspec": {
   "display_name": "Python 3 (ipykernel)",
   "language": "python",
   "name": "python3"
  },
  "language_info": {
   "codemirror_mode": {
    "name": "ipython",
    "version": 3
   },
   "file_extension": ".py",
   "mimetype": "text/x-python",
   "name": "python",
   "nbconvert_exporter": "python",
   "pygments_lexer": "ipython3",
   "version": "3.9.7"
  }
 },
 "nbformat": 4,
 "nbformat_minor": 1
}
